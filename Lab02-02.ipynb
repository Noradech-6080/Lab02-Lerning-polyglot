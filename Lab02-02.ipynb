{
 "cells": [
  {
   "cell_type": "markdown",
   "metadata": {},
   "source": [
    "# Lab 2.1 การสร้าง dotnet console project"
   ]
  },
  {
   "cell_type": "markdown",
   "metadata": {},
   "source": [
    "ข้อดีของการใช้ polyglot คือเราสามารถใช้คำสั่ง powershell (ของวินโดวส์) เพื่อสร้าง project ได้จาก notebook \n",
    "\n",
    "หมายเหตุ สำหรับนักศึกษาที่ใช้ระบบปฏิบัติการที่ไม่ใช้ notebook ให้เปิด terminal แล้วพิมพ์คำสั่งตามใบงานนี้ จะได้ผลลัพธ์เช่นเดียวกัน"
   ]
  },
  {
   "cell_type": "markdown",
   "metadata": {},
   "source": [
    "## การสร้างและรัน dotnet console project ด้วย powershell\n",
    "###  พิมพ์ code ต่อไปนี้ ลงใน cell ของ powershell ครั้งละบรรทัด เพื่อสร้างและรันโปรเจค\n",
    "\n",
    "1. คำสั่ง `dotnet new console -n HelloWorld -o HelloWorld` \n",
    "   \n",
    "คำสั่ง/options |ความหมาย\n",
    "--|--\n",
    "   `dotnet new console`  | สร้าง  project  ใหม่เป็น console project\n",
    "   `-n HelloWorld`  | ระบุชื่อ project\n",
    "   `-o HelloWorld`  | ระบุ folder ของ project \n",
    "\n",
    "หมายเหตุ การที่ไม่สามารถสร้าง project นั้น อาจจะเกิดจากการที่มี folder  ของ project นั้นอยู่ที่นั่นแล้ว ถ้าเป็นเช่นนั้นให้ลบออกหรือย้ายไปไว้ในที่อื่นก่อน\n",
    " \n"
   ]
  },
  {
   "cell_type": "code",
   "execution_count": 1,
   "metadata": {
    "dotnet_interactive": {
     "language": "pwsh"
    },
    "polyglot_notebook": {
     "kernelName": "pwsh"
    },
    "vscode": {
     "languageId": "csharp"
    }
   },
   "outputs": [
    {
     "data": {
      "text/html": [
       "\r\n",
       "<div>\r\n",
       "    <div id='dotnet-interactive-this-cell-17536.Microsoft.DotNet.Interactive.Http.HttpPort' style='display: none'>\r\n",
       "        The below script needs to be able to find the current output cell; this is an easy method to get it.\r\n",
       "    </div>\r\n",
       "    <script type='text/javascript'>\r\n",
       "async function probeAddresses(probingAddresses) {\r\n",
       "    function timeout(ms, promise) {\r\n",
       "        return new Promise(function (resolve, reject) {\r\n",
       "            setTimeout(function () {\r\n",
       "                reject(new Error('timeout'))\r\n",
       "            }, ms)\r\n",
       "            promise.then(resolve, reject)\r\n",
       "        })\r\n",
       "    }\r\n",
       "\r\n",
       "    if (Array.isArray(probingAddresses)) {\r\n",
       "        for (let i = 0; i < probingAddresses.length; i++) {\r\n",
       "\r\n",
       "            let rootUrl = probingAddresses[i];\r\n",
       "\r\n",
       "            if (!rootUrl.endsWith('/')) {\r\n",
       "                rootUrl = `${rootUrl}/`;\r\n",
       "            }\r\n",
       "\r\n",
       "            try {\r\n",
       "                let response = await timeout(1000, fetch(`${rootUrl}discovery`, {\r\n",
       "                    method: 'POST',\r\n",
       "                    cache: 'no-cache',\r\n",
       "                    mode: 'cors',\r\n",
       "                    timeout: 1000,\r\n",
       "                    headers: {\r\n",
       "                        'Content-Type': 'text/plain'\r\n",
       "                    },\r\n",
       "                    body: probingAddresses[i]\r\n",
       "                }));\r\n",
       "\r\n",
       "                if (response.status == 200) {\r\n",
       "                    return rootUrl;\r\n",
       "                }\r\n",
       "            }\r\n",
       "            catch (e) { }\r\n",
       "        }\r\n",
       "    }\r\n",
       "}\r\n",
       "\r\n",
       "function loadDotnetInteractiveApi() {\r\n",
       "    probeAddresses([\"http://192.168.15.176:2048/\", \"http://127.0.0.1:2048/\"])\r\n",
       "        .then((root) => {\r\n",
       "        // use probing to find host url and api resources\r\n",
       "        // load interactive helpers and language services\r\n",
       "        let dotnetInteractiveRequire = require.config({\r\n",
       "        context: '17536.Microsoft.DotNet.Interactive.Http.HttpPort',\r\n",
       "                paths:\r\n",
       "            {\r\n",
       "                'dotnet-interactive': `${root}resources`\r\n",
       "                }\r\n",
       "        }) || require;\r\n",
       "\r\n",
       "            window.dotnetInteractiveRequire = dotnetInteractiveRequire;\r\n",
       "\r\n",
       "            window.configureRequireFromExtension = function(extensionName, extensionCacheBuster) {\r\n",
       "                let paths = {};\r\n",
       "                paths[extensionName] = `${root}extensions/${extensionName}/resources/`;\r\n",
       "                \r\n",
       "                let internalRequire = require.config({\r\n",
       "                    context: extensionCacheBuster,\r\n",
       "                    paths: paths,\r\n",
       "                    urlArgs: `cacheBuster=${extensionCacheBuster}`\r\n",
       "                    }) || require;\r\n",
       "\r\n",
       "                return internalRequire\r\n",
       "            };\r\n",
       "        \r\n",
       "            dotnetInteractiveRequire([\r\n",
       "                    'dotnet-interactive/dotnet-interactive'\r\n",
       "                ],\r\n",
       "                function (dotnet) {\r\n",
       "                    dotnet.init(window);\r\n",
       "                },\r\n",
       "                function (error) {\r\n",
       "                    console.log(error);\r\n",
       "                }\r\n",
       "            );\r\n",
       "        })\r\n",
       "        .catch(error => {console.log(error);});\r\n",
       "    }\r\n",
       "\r\n",
       "// ensure `require` is available globally\r\n",
       "if ((typeof(require) !==  typeof(Function)) || (typeof(require.config) !== typeof(Function))) {\r\n",
       "    let require_script = document.createElement('script');\r\n",
       "    require_script.setAttribute('src', 'https://cdnjs.cloudflare.com/ajax/libs/require.js/2.3.6/require.min.js');\r\n",
       "    require_script.setAttribute('type', 'text/javascript');\r\n",
       "    \r\n",
       "    \r\n",
       "    require_script.onload = function() {\r\n",
       "        loadDotnetInteractiveApi();\r\n",
       "    };\r\n",
       "\r\n",
       "    document.getElementsByTagName('head')[0].appendChild(require_script);\r\n",
       "}\r\n",
       "else {\r\n",
       "    loadDotnetInteractiveApi();\r\n",
       "}\r\n",
       "\r\n",
       "    </script>\r\n",
       "</div>"
      ]
     },
     "metadata": {},
     "output_type": "display_data"
    },
    {
     "name": "stdout",
     "output_type": "stream",
     "text": [
      "The template \"Console App\" was created successfully.\n",
      "\n",
      "Processing post-creation actions...\n",
      "Restoring D:\\github_K\\Lab02-Lerning-polyglot\\HelloWorld\\HelloWorld.csproj:\n",
      "  Determining projects to restore...\n",
      "  Restored D:\\github_K\\Lab02-Lerning-polyglot\\HelloWorld\\HelloWorld.csproj (in 243 ms).\n",
      "Restore succeeded.\n",
      "\n",
      "\n"
     ]
    }
   ],
   "source": [
    "# พืมพ์คำสั่งตามข้อ 1\n",
    "dotnet new console -n HelloWorld -o HelloWorld"
   ]
  },
  {
   "cell_type": "markdown",
   "metadata": {},
   "source": [
    "2. ตรวจสอบให้แน่ใจว่า dotnet ได้สร้าง folder ของโปรเจคไว้ในตำแหน่งที่กำหนดแล้ว\n",
    "   \n",
    "   โดยการเรียก  terminal แล้วพิมพ์คำสั่ง `dir` หรือดูใน file explorer   "
   ]
  },
  {
   "cell_type": "code",
   "execution_count": 2,
   "metadata": {
    "dotnet_interactive": {
     "language": "pwsh"
    },
    "polyglot_notebook": {
     "kernelName": "pwsh"
    },
    "vscode": {
     "languageId": "csharp"
    }
   },
   "outputs": [
    {
     "name": "stdout",
     "output_type": "stream",
     "text": [
      "\n",
      "    Directory: D:\\github_K\\Lab02-Lerning-polyglot\n",
      "\n",
      "\u001b[32;1mMode   \u001b[0m\u001b[32;1m              LastWriteTime\u001b[0m \u001b[32;1;3m        Length\u001b[0m\u001b[32;1m Name\u001b[0m\n",
      "\u001b[32;1m----   \u001b[0m \u001b[32;1m             -------------\u001b[0m \u001b[32;1m        ------\u001b[0m \u001b[32;1m----\u001b[0m\n",
      "d----           3/22/2025  2:52 PM                \u001b[44;1mHelloWorld\u001b[0m\n",
      "d----           3/22/2025  2:51 PM                \u001b[44;1mImages\u001b[0m\n",
      "-a---           3/22/2025  2:51 PM             68 .gitattributes\n",
      "-a---           3/22/2025  2:51 PM           7258 .gitignore\n",
      "-a---           3/22/2025  2:51 PM           2591 Lab02-01.ipynb\n",
      "-a---           3/22/2025  2:52 PM          12442 Lab02-02.ipynb\n",
      "-a---           3/22/2025  2:51 PM           3078 Lab02-03.ipynb\n",
      "-a---           3/22/2025  2:51 PM           9785 Lab02-04.ipynb\n",
      "-a---           3/22/2025  2:51 PM           1083 LICENSE\n",
      "\n"
     ]
    }
   ],
   "source": [
    "# พืมพ์คำสั่งตามข้อ 2\n",
    "dir"
   ]
  },
  {
   "cell_type": "markdown",
   "metadata": {},
   "source": [
    "3. เปลี่ยนเส้นทางเข้าไปยัง folder ที่ถูกสร้างขึ้น  `cd HelloWorld`"
   ]
  },
  {
   "cell_type": "code",
   "execution_count": 3,
   "metadata": {
    "dotnet_interactive": {
     "language": "pwsh"
    },
    "polyglot_notebook": {
     "kernelName": "pwsh"
    },
    "vscode": {
     "languageId": "csharp"
    }
   },
   "outputs": [],
   "source": [
    "# พืมพ์คำสั่งตามข้อ 3\n",
    "cd HelloWorld"
   ]
  },
  {
   "cell_type": "markdown",
   "metadata": {},
   "source": [
    "4. พิมพ์ `dotnet build`"
   ]
  },
  {
   "cell_type": "code",
   "execution_count": 4,
   "metadata": {
    "dotnet_interactive": {
     "language": "pwsh"
    },
    "polyglot_notebook": {
     "kernelName": "pwsh"
    },
    "vscode": {
     "languageId": "csharp"
    }
   },
   "outputs": [
    {
     "name": "stdout",
     "output_type": "stream",
     "text": [
      "MSBuild version 17.8.3+195e7f5a3 for .NET\n",
      "  Determining projects to restore...\n",
      "  All projects are up-to-date for restore.\n",
      "  HelloWorld -> D:\\github_K\\Lab02-Lerning-polyglot\\HelloWorld\\bin\\Debug\\net8.0\\HelloWorld.dll\n",
      "\n",
      "Build succeeded.\n",
      "    0 Warning(s)\n",
      "    0 Error(s)\n",
      "\n",
      "Time Elapsed 00:00:04.83\n"
     ]
    }
   ],
   "source": [
    "# พืมพ์คำสั่งตามข้อ 4\n",
    "dotnet build"
   ]
  },
  {
   "cell_type": "markdown",
   "metadata": {},
   "source": [
    "5. พิมพ์ `dotnet run` เพื่อดูผลการทำงานของโปรแกรม"
   ]
  },
  {
   "cell_type": "code",
   "execution_count": 5,
   "metadata": {
    "dotnet_interactive": {
     "language": "pwsh"
    },
    "polyglot_notebook": {
     "kernelName": "pwsh"
    },
    "vscode": {
     "languageId": "csharp"
    }
   },
   "outputs": [
    {
     "name": "stdout",
     "output_type": "stream",
     "text": [
      "Hello, World!\n"
     ]
    }
   ],
   "source": [
    "# พืมพ์คำสั่งตามข้อ 5\n",
    "dotnet run"
   ]
  },
  {
   "cell_type": "markdown",
   "metadata": {},
   "source": [
    "6. เข้าไปในไฟล์ Program.cs ของโปรเจค HelloWorld\n",
    "7. แก้ไขบรรทัดที่ 2  `Console.WriteLine(\"Hello, World!\");` ให้เป็นข้อความอื่น เช่น `\"Hello, <ชื่อของนักศึกษา>!\"`\n",
    "8. พิมพ์ `dotnet build`"
   ]
  },
  {
   "cell_type": "code",
   "execution_count": 6,
   "metadata": {
    "dotnet_interactive": {
     "language": "pwsh"
    },
    "polyglot_notebook": {
     "kernelName": "pwsh"
    },
    "vscode": {
     "languageId": "csharp"
    }
   },
   "outputs": [
    {
     "name": "stdout",
     "output_type": "stream",
     "text": [
      "MSBuild version 17.8.3+195e7f5a3 for .NET\n",
      "  Determining projects to restore...\n",
      "  All projects are up-to-date for restore.\n",
      "  HelloWorld -> D:\\github_K\\Lab02-Lerning-polyglot\\HelloWorld\\bin\\Debug\\net8.0\\HelloWorld.dll\n",
      "\n",
      "Build succeeded.\n",
      "    0 Warning(s)\n",
      "    0 Error(s)\n",
      "\n",
      "Time Elapsed 00:00:01.78\n"
     ]
    }
   ],
   "source": [
    "# พืมพ์คำสั่งตามข้อ 8\n",
    "dotnet build"
   ]
  },
  {
   "cell_type": "markdown",
   "metadata": {},
   "source": [
    "9. พิมพ์ `dotnet run`"
   ]
  },
  {
   "cell_type": "code",
   "execution_count": 7,
   "metadata": {
    "dotnet_interactive": {
     "language": "pwsh"
    },
    "polyglot_notebook": {
     "kernelName": "pwsh"
    },
    "vscode": {
     "languageId": "csharp"
    }
   },
   "outputs": [
    {
     "name": "stdout",
     "output_type": "stream",
     "text": [
      "Hello, Noradech!\n"
     ]
    }
   ],
   "source": [
    "# พืมพ์คำสั่งตามข้อ 9\n",
    "dotnet run"
   ]
  },
  {
   "cell_type": "markdown",
   "metadata": {},
   "source": [
    "> 10. สรุปผลการทดลอง"
   ]
  },
  {
   "cell_type": "markdown",
   "metadata": {},
   "source": [
    "ใช้ในการพิมพ์ข้อความ \"Hello, Noradech!\" ออกทางหน้าจอคอนโซล โดยใช้คำสั่ง Console.WriteLine()"
   ]
  }
 ],
 "metadata": {
  "kernelspec": {
   "display_name": ".NET (C#)",
   "language": "C#",
   "name": ".net-csharp"
  },
  "language_info": {
   "file_extension": ".cs",
   "mimetype": "text/x-csharp",
   "name": "C#",
   "pygments_lexer": "csharp",
   "version": "12.0"
  },
  "polyglot_notebook": {
   "kernelInfo": {
    "defaultKernelName": "pwsh",
    "items": [
     {
      "aliases": [],
      "languageName": "pwsh",
      "name": "pwsh"
     }
    ]
   }
  }
 },
 "nbformat": 4,
 "nbformat_minor": 2
}
